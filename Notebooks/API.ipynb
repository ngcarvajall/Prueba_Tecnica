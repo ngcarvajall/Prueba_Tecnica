{
 "cells": [
  {
   "cell_type": "code",
   "execution_count": 4,
   "metadata": {},
   "outputs": [],
   "source": [
    "import requests\n",
    "import pandas as pd\n",
    "import json\n",
    "import dotenv as dotenv\n",
    "import os\n",
    "dotenv.load_dotenv()\n",
    "api_key_movies=os.getenv(\"api_key_movies\")"
   ]
  },
  {
   "cell_type": "markdown",
   "metadata": {},
   "source": [
    "# Películas de Drama"
   ]
  },
  {
   "cell_type": "code",
   "execution_count": 27,
   "metadata": {},
   "outputs": [],
   "source": [
    "import requests\n",
    "generos = ['Drama', 'Comedy', 'Action', 'Fantasy', 'Horror', 'Mystery', 'Romance', 'Thriller']\n",
    "\n",
    "url = \"https://moviesdatabase.p.rapidapi.com/titles\"\n",
    "\n",
    "for i in range(1990,2025,1):\n",
    "    querystring = {\"genre\":\"Drama\",\"startYear\":{i},\"titleType\":\"movie\",\"sort\":\"year.incr\",\"endYear\":\"2024\",\"limit\":\"50\"}\n",
    "\n",
    "headers = {\n",
    "\t\"x-rapidapi-key\": api_key_movies,\n",
    "\t\"x-rapidapi-host\": \"moviesdatabase.p.rapidapi.com\"\n",
    "}\n",
    "\n",
    "response = requests.get(url, headers=headers, params=querystring)\n",
    "\n",
    "movies = response.json()"
   ]
  },
  {
   "cell_type": "code",
   "execution_count": 28,
   "metadata": {},
   "outputs": [],
   "source": [
    "with open('movies.json', 'w') as archivo_json:\n",
    "    json.dump(movies, archivo_json, indent=4)"
   ]
  },
  {
   "cell_type": "code",
   "execution_count": 29,
   "metadata": {},
   "outputs": [
    {
     "data": {
      "text/plain": [
       "dict_keys(['page', 'next', 'entries', 'results'])"
      ]
     },
     "execution_count": 29,
     "metadata": {},
     "output_type": "execute_result"
    }
   ],
   "source": [
    "movies.keys()"
   ]
  },
  {
   "cell_type": "code",
   "execution_count": 40,
   "metadata": {},
   "outputs": [
    {
     "data": {
      "text/plain": [
       "{'_id': '61e58ea278c012aa34446beb',\n",
       " 'id': 'tt10579986',\n",
       " 'primaryImage': {'id': 'rm878544897',\n",
       "  'width': 1217,\n",
       "  'height': 1792,\n",
       "  'url': 'https://m.media-amazon.com/images/M/MV5BYjgyN2RjZWEtYzRjYy00ZGEyLWI4MTItNjk5OGI1YThhZWNlXkEyXkFqcGc@._V1_.jpg',\n",
       "  'caption': {'plainText': \"Mom's Coming (2024)\", '__typename': 'Markdown'},\n",
       "  '__typename': 'Image'},\n",
       " 'titleType': {'displayableProperty': {'value': {'plainText': '',\n",
       "    '__typename': 'Markdown'},\n",
       "   '__typename': 'DisplayableTitleTypeProperty'},\n",
       "  'text': 'Movie',\n",
       "  'id': 'movie',\n",
       "  'isSeries': False,\n",
       "  'isEpisode': False,\n",
       "  'categories': [{'value': 'movie', '__typename': 'TitleTypeCategory'}],\n",
       "  'canHaveEpisodes': False,\n",
       "  '__typename': 'TitleType'},\n",
       " 'titleText': {'text': \"Mom's Coming\", '__typename': 'TitleText'},\n",
       " 'originalTitleText': {'text': \"Mom's Coming\", '__typename': 'TitleText'},\n",
       " 'releaseYear': {'year': 2024, 'endYear': None, '__typename': 'YearRange'},\n",
       " 'releaseDate': {'day': 24,\n",
       "  'month': 11,\n",
       "  'year': 2024,\n",
       "  '__typename': 'ReleaseDate'}}"
      ]
     },
     "execution_count": 40,
     "metadata": {},
     "output_type": "execute_result"
    }
   ],
   "source": [
    "movies['results'][0]"
   ]
  },
  {
   "cell_type": "code",
   "execution_count": 53,
   "metadata": {},
   "outputs": [],
   "source": [
    "cantidad_movies = len(movies['results'])"
   ]
  },
  {
   "cell_type": "code",
   "execution_count": 62,
   "metadata": {},
   "outputs": [
    {
     "data": {
      "text/plain": [
       "50"
      ]
     },
     "execution_count": 62,
     "metadata": {},
     "output_type": "execute_result"
    }
   ],
   "source": [
    "cantidad_movies"
   ]
  },
  {
   "cell_type": "code",
   "execution_count": 60,
   "metadata": {},
   "outputs": [],
   "source": [
    "id_movie = movies['results'][0]['id']"
   ]
  },
  {
   "cell_type": "code",
   "execution_count": 61,
   "metadata": {},
   "outputs": [
    {
     "data": {
      "text/plain": [
       "'tt10579986'"
      ]
     },
     "execution_count": 61,
     "metadata": {},
     "output_type": "execute_result"
    }
   ],
   "source": [
    "id_movie"
   ]
  },
  {
   "cell_type": "code",
   "execution_count": 70,
   "metadata": {},
   "outputs": [
    {
     "data": {
      "text/plain": [
       "'Yoake no subete (2024)'"
      ]
     },
     "execution_count": 70,
     "metadata": {},
     "output_type": "execute_result"
    }
   ],
   "source": [
    "movies['results'][49]['primaryImage']['caption']['plainText']"
   ]
  },
  {
   "cell_type": "code",
   "execution_count": 105,
   "metadata": {},
   "outputs": [
    {
     "data": {
      "text/plain": [
       "'Movie'"
      ]
     },
     "execution_count": 105,
     "metadata": {},
     "output_type": "execute_result"
    }
   ],
   "source": [
    "movies['results'][0]['titleType']['text']"
   ]
  },
  {
   "cell_type": "code",
   "execution_count": 142,
   "metadata": {},
   "outputs": [],
   "source": [
    "list_dict = []\n",
    "\n",
    "for i in range(0,cantidad_movies):\n",
    "    # print(i)\n",
    "    try:\n",
    "        tipo_movie = movies['results'][i]['titleType']['text']\n",
    "        id_movie = movies['results'][i]['id'] # me quedo con id\n",
    "        name_movie = movies['results'][i]['primaryImage']['caption']['plainText'] # me quedo con el nombre\n",
    "        month_premiere = movies['results'][i]['releaseDate']['month'] # me quedo con el mes\n",
    "        year_premiere = movies['results'][i]['releaseDate']['year'] # me quedo con el año\n",
    "        diccionario = {'id': id_movie,\n",
    "                    'tipo':tipo_movie,\n",
    "                    'nombre': name_movie,\n",
    "                    'mes_estreno': month_premiere,\n",
    "                    'anio_estreno': year_premiere}\n",
    "        list_dict.append(diccionario)\n",
    "    except:\n",
    "        continue"
   ]
  },
  {
   "cell_type": "code",
   "execution_count": 143,
   "metadata": {},
   "outputs": [],
   "source": [
    "df_peli = pd.DataFrame(list_dict)"
   ]
  },
  {
   "cell_type": "code",
   "execution_count": 144,
   "metadata": {},
   "outputs": [
    {
     "data": {
      "text/html": [
       "<div>\n",
       "<style scoped>\n",
       "    .dataframe tbody tr th:only-of-type {\n",
       "        vertical-align: middle;\n",
       "    }\n",
       "\n",
       "    .dataframe tbody tr th {\n",
       "        vertical-align: top;\n",
       "    }\n",
       "\n",
       "    .dataframe thead th {\n",
       "        text-align: right;\n",
       "    }\n",
       "</style>\n",
       "<table border=\"1\" class=\"dataframe\">\n",
       "  <thead>\n",
       "    <tr style=\"text-align: right;\">\n",
       "      <th></th>\n",
       "      <th>id</th>\n",
       "      <th>tipo</th>\n",
       "      <th>nombre</th>\n",
       "      <th>mes_estreno</th>\n",
       "      <th>anio_estreno</th>\n",
       "    </tr>\n",
       "  </thead>\n",
       "  <tbody>\n",
       "    <tr>\n",
       "      <th>0</th>\n",
       "      <td>tt10579986</td>\n",
       "      <td>Movie</td>\n",
       "      <td>Mom's Coming (2024)</td>\n",
       "      <td>11.0</td>\n",
       "      <td>2024.0</td>\n",
       "    </tr>\n",
       "    <tr>\n",
       "      <th>1</th>\n",
       "      <td>tt10597228</td>\n",
       "      <td>Movie</td>\n",
       "      <td>Love Song and Power (2024)</td>\n",
       "      <td>1.0</td>\n",
       "      <td>2024.0</td>\n",
       "    </tr>\n",
       "    <tr>\n",
       "      <th>2</th>\n",
       "      <td>tt11097384</td>\n",
       "      <td>Movie</td>\n",
       "      <td>Adam Sandler in Spaceman (2024)</td>\n",
       "      <td>3.0</td>\n",
       "      <td>2024.0</td>\n",
       "    </tr>\n",
       "    <tr>\n",
       "      <th>3</th>\n",
       "      <td>tt11152168</td>\n",
       "      <td>Movie</td>\n",
       "      <td>Louis Gossett Jr., Ryan Reynolds, Sam Rockwell...</td>\n",
       "      <td>5.0</td>\n",
       "      <td>2024.0</td>\n",
       "    </tr>\n",
       "    <tr>\n",
       "      <th>4</th>\n",
       "      <td>tt11822244</td>\n",
       "      <td>Movie</td>\n",
       "      <td>Manje Bistre 3 (2024)</td>\n",
       "      <td>7.0</td>\n",
       "      <td>2024.0</td>\n",
       "    </tr>\n",
       "  </tbody>\n",
       "</table>\n",
       "</div>"
      ],
      "text/plain": [
       "           id   tipo                                             nombre  \\\n",
       "0  tt10579986  Movie                                Mom's Coming (2024)   \n",
       "1  tt10597228  Movie                         Love Song and Power (2024)   \n",
       "2  tt11097384  Movie                    Adam Sandler in Spaceman (2024)   \n",
       "3  tt11152168  Movie  Louis Gossett Jr., Ryan Reynolds, Sam Rockwell...   \n",
       "4  tt11822244  Movie                              Manje Bistre 3 (2024)   \n",
       "\n",
       "   mes_estreno  anio_estreno  \n",
       "0         11.0        2024.0  \n",
       "1          1.0        2024.0  \n",
       "2          3.0        2024.0  \n",
       "3          5.0        2024.0  \n",
       "4          7.0        2024.0  "
      ]
     },
     "execution_count": 144,
     "metadata": {},
     "output_type": "execute_result"
    }
   ],
   "source": [
    "df_peli.head()"
   ]
  },
  {
   "cell_type": "code",
   "execution_count": 145,
   "metadata": {},
   "outputs": [],
   "source": [
    "df_peli['Genero'] = 'Drama'"
   ]
  },
  {
   "cell_type": "code",
   "execution_count": 146,
   "metadata": {},
   "outputs": [
    {
     "data": {
      "text/html": [
       "<div>\n",
       "<style scoped>\n",
       "    .dataframe tbody tr th:only-of-type {\n",
       "        vertical-align: middle;\n",
       "    }\n",
       "\n",
       "    .dataframe tbody tr th {\n",
       "        vertical-align: top;\n",
       "    }\n",
       "\n",
       "    .dataframe thead th {\n",
       "        text-align: right;\n",
       "    }\n",
       "</style>\n",
       "<table border=\"1\" class=\"dataframe\">\n",
       "  <thead>\n",
       "    <tr style=\"text-align: right;\">\n",
       "      <th></th>\n",
       "      <th>id</th>\n",
       "      <th>tipo</th>\n",
       "      <th>nombre</th>\n",
       "      <th>mes_estreno</th>\n",
       "      <th>anio_estreno</th>\n",
       "      <th>Genero</th>\n",
       "    </tr>\n",
       "  </thead>\n",
       "  <tbody>\n",
       "    <tr>\n",
       "      <th>0</th>\n",
       "      <td>tt10579986</td>\n",
       "      <td>Movie</td>\n",
       "      <td>Mom's Coming (2024)</td>\n",
       "      <td>11.0</td>\n",
       "      <td>2024.0</td>\n",
       "      <td>Drama</td>\n",
       "    </tr>\n",
       "    <tr>\n",
       "      <th>1</th>\n",
       "      <td>tt10597228</td>\n",
       "      <td>Movie</td>\n",
       "      <td>Love Song and Power (2024)</td>\n",
       "      <td>1.0</td>\n",
       "      <td>2024.0</td>\n",
       "      <td>Drama</td>\n",
       "    </tr>\n",
       "    <tr>\n",
       "      <th>2</th>\n",
       "      <td>tt11097384</td>\n",
       "      <td>Movie</td>\n",
       "      <td>Adam Sandler in Spaceman (2024)</td>\n",
       "      <td>3.0</td>\n",
       "      <td>2024.0</td>\n",
       "      <td>Drama</td>\n",
       "    </tr>\n",
       "    <tr>\n",
       "      <th>3</th>\n",
       "      <td>tt11152168</td>\n",
       "      <td>Movie</td>\n",
       "      <td>Louis Gossett Jr., Ryan Reynolds, Sam Rockwell...</td>\n",
       "      <td>5.0</td>\n",
       "      <td>2024.0</td>\n",
       "      <td>Drama</td>\n",
       "    </tr>\n",
       "    <tr>\n",
       "      <th>4</th>\n",
       "      <td>tt11822244</td>\n",
       "      <td>Movie</td>\n",
       "      <td>Manje Bistre 3 (2024)</td>\n",
       "      <td>7.0</td>\n",
       "      <td>2024.0</td>\n",
       "      <td>Drama</td>\n",
       "    </tr>\n",
       "  </tbody>\n",
       "</table>\n",
       "</div>"
      ],
      "text/plain": [
       "           id   tipo                                             nombre  \\\n",
       "0  tt10579986  Movie                                Mom's Coming (2024)   \n",
       "1  tt10597228  Movie                         Love Song and Power (2024)   \n",
       "2  tt11097384  Movie                    Adam Sandler in Spaceman (2024)   \n",
       "3  tt11152168  Movie  Louis Gossett Jr., Ryan Reynolds, Sam Rockwell...   \n",
       "4  tt11822244  Movie                              Manje Bistre 3 (2024)   \n",
       "\n",
       "   mes_estreno  anio_estreno Genero  \n",
       "0         11.0        2024.0  Drama  \n",
       "1          1.0        2024.0  Drama  \n",
       "2          3.0        2024.0  Drama  \n",
       "3          5.0        2024.0  Drama  \n",
       "4          7.0        2024.0  Drama  "
      ]
     },
     "execution_count": 146,
     "metadata": {},
     "output_type": "execute_result"
    }
   ],
   "source": [
    "df_peli.head()"
   ]
  },
  {
   "cell_type": "code",
   "execution_count": 147,
   "metadata": {},
   "outputs": [
    {
     "name": "stdout",
     "output_type": "stream",
     "text": [
      "<class 'pandas.core.frame.DataFrame'>\n",
      "RangeIndex: 47 entries, 0 to 46\n",
      "Data columns (total 6 columns):\n",
      " #   Column        Non-Null Count  Dtype  \n",
      "---  ------        --------------  -----  \n",
      " 0   id            47 non-null     object \n",
      " 1   tipo          47 non-null     object \n",
      " 2   nombre        47 non-null     object \n",
      " 3   mes_estreno   44 non-null     float64\n",
      " 4   anio_estreno  46 non-null     float64\n",
      " 5   Genero        47 non-null     object \n",
      "dtypes: float64(2), object(4)\n",
      "memory usage: 2.3+ KB\n"
     ]
    }
   ],
   "source": [
    "df_peli.info()"
   ]
  },
  {
   "cell_type": "code",
   "execution_count": 148,
   "metadata": {},
   "outputs": [
    {
     "name": "stderr",
     "output_type": "stream",
     "text": [
      "C:\\Users\\DELL\\AppData\\Local\\Temp\\ipykernel_13140\\2983259277.py:1: FutureWarning: A value is trying to be set on a copy of a DataFrame or Series through chained assignment using an inplace method.\n",
      "The behavior will change in pandas 3.0. This inplace method will never work because the intermediate object on which we are setting values always behaves as a copy.\n",
      "\n",
      "For example, when doing 'df[col].method(value, inplace=True)', try using 'df.method({col: value}, inplace=True)' or df[col] = df[col].method(value) instead, to perform the operation inplace on the original object.\n",
      "\n",
      "\n",
      "  df_peli['anio_estreno'].fillna(2024, inplace=True)\n"
     ]
    }
   ],
   "source": [
    "df_peli['anio_estreno'].fillna(2024, inplace=True)"
   ]
  },
  {
   "cell_type": "code",
   "execution_count": 149,
   "metadata": {},
   "outputs": [
    {
     "name": "stderr",
     "output_type": "stream",
     "text": [
      "C:\\Users\\DELL\\AppData\\Local\\Temp\\ipykernel_13140\\1946596253.py:1: FutureWarning: A value is trying to be set on a copy of a DataFrame or Series through chained assignment using an inplace method.\n",
      "The behavior will change in pandas 3.0. This inplace method will never work because the intermediate object on which we are setting values always behaves as a copy.\n",
      "\n",
      "For example, when doing 'df[col].method(value, inplace=True)', try using 'df.method({col: value}, inplace=True)' or df[col] = df[col].method(value) instead, to perform the operation inplace on the original object.\n",
      "\n",
      "\n",
      "  df_peli['mes_estreno'].fillna('Desconocido', inplace=True)\n",
      "C:\\Users\\DELL\\AppData\\Local\\Temp\\ipykernel_13140\\1946596253.py:1: FutureWarning: Setting an item of incompatible dtype is deprecated and will raise an error in a future version of pandas. Value 'Desconocido' has dtype incompatible with float64, please explicitly cast to a compatible dtype first.\n",
      "  df_peli['mes_estreno'].fillna('Desconocido', inplace=True)\n"
     ]
    }
   ],
   "source": [
    "df_peli['mes_estreno'].fillna('Desconocido', inplace=True)"
   ]
  },
  {
   "cell_type": "code",
   "execution_count": 150,
   "metadata": {},
   "outputs": [
    {
     "name": "stdout",
     "output_type": "stream",
     "text": [
      "<class 'pandas.core.frame.DataFrame'>\n",
      "RangeIndex: 47 entries, 0 to 46\n",
      "Data columns (total 6 columns):\n",
      " #   Column        Non-Null Count  Dtype  \n",
      "---  ------        --------------  -----  \n",
      " 0   id            47 non-null     object \n",
      " 1   tipo          47 non-null     object \n",
      " 2   nombre        47 non-null     object \n",
      " 3   mes_estreno   47 non-null     object \n",
      " 4   anio_estreno  47 non-null     float64\n",
      " 5   Genero        47 non-null     object \n",
      "dtypes: float64(1), object(5)\n",
      "memory usage: 2.3+ KB\n"
     ]
    }
   ],
   "source": [
    "df_peli.info()"
   ]
  },
  {
   "cell_type": "code",
   "execution_count": 95,
   "metadata": {},
   "outputs": [],
   "source": [
    "import requests\n",
    "generos = ['Drama', 'Comedy', 'Action', 'Fantasy', 'Horror', 'Mystery', 'Romance', 'Thriller']\n",
    "\n",
    "url = \"https://moviesdatabase.p.rapidapi.com/titles\"\n",
    "\n",
    "# for i in range(1990,2025,1):\n",
    "querystring = {\"genre\":\"Drama\",\"startYear\":'1990',\"titleType\":\"movie\",\"sort\":\"year.incr\",\"endYear\":\"2024\",\"limit\":\"50\"}\n",
    "\n",
    "headers = {\n",
    "\t\"x-rapidapi-key\": api_key_movies,\n",
    "\t\"x-rapidapi-host\": \"moviesdatabase.p.rapidapi.com\"\n",
    "}\n",
    "\n",
    "response = requests.get(url, headers=headers, params=querystring)\n",
    "\n",
    "movies_90 = response.json()"
   ]
  },
  {
   "cell_type": "code",
   "execution_count": 96,
   "metadata": {},
   "outputs": [],
   "source": [
    "with open('movies_90.json', 'w') as archivo_json:\n",
    "    json.dump(movies_90, archivo_json, indent=4)"
   ]
  },
  {
   "cell_type": "code",
   "execution_count": 188,
   "metadata": {},
   "outputs": [],
   "source": [
    "list_dict_90 = []\n",
    "\n",
    "for i in range(0,50):\n",
    "    # print(i)\n",
    "    try:\n",
    "        tipo_movie_90 = movies_90['results'][i]['titleType']['text']\n",
    "        id_movie_90 = movies_90['results'][i]['id'] # me quedo con id\n",
    "        name_movie_90 = movies_90['results'][i]['primaryImage']['caption']['plainText'] # me quedo con el nombre\n",
    "        month_premiere_90 = movies_90['results'][i]['releaseDate']['month'] # me quedo con el mes\n",
    "        year_premiere_90 = movies_90['results'][i]['releaseDate']['year'] # me quedo con el año\n",
    "        diccionario = {'id': id_movie_90,\n",
    "                       'tipo':tipo_movie_90,\n",
    "                    'nombre': name_movie_90,\n",
    "                    'mes_estreno': month_premiere_90,\n",
    "                    'anio_estreno': year_premiere_90}\n",
    "        list_dict_90.append(diccionario)\n",
    "    except:\n",
    "        continue"
   ]
  },
  {
   "cell_type": "code",
   "execution_count": 189,
   "metadata": {},
   "outputs": [
    {
     "data": {
      "text/plain": [
       "[{'id': 'tt0059325',\n",
       "  'tipo': 'Movie',\n",
       "  'nombre': 'Jahrgang 45 (1990)',\n",
       "  'mes_estreno': 10,\n",
       "  'anio_estreno': 1990},\n",
       " {'id': 'tt0059900',\n",
       "  'tipo': 'Movie',\n",
       "  'nombre': 'Wenn du groß bist, lieber Adam (1990)',\n",
       "  'mes_estreno': 10,\n",
       "  'anio_estreno': 1990},\n",
       " {'id': 'tt0068494',\n",
       "  'tipo': 'Movie',\n",
       "  'nombre': 'Domo Arigato (1990)',\n",
       "  'mes_estreno': 8,\n",
       "  'anio_estreno': 1990},\n",
       " {'id': 'tt0075259',\n",
       "  'tipo': 'Movie',\n",
       "  'nombre': 'Spy Story (1990)',\n",
       "  'mes_estreno': 3,\n",
       "  'anio_estreno': 1990},\n",
       " {'id': 'tt0081721',\n",
       "  'tipo': 'Movie',\n",
       "  'nombre': 'Vincent et moi (1990)',\n",
       "  'mes_estreno': 12,\n",
       "  'anio_estreno': 1990},\n",
       " {'id': 'tt0090665',\n",
       "  'tipo': 'Movie',\n",
       "  'nombre': 'Asfour Stah (1990)',\n",
       "  'mes_estreno': 3,\n",
       "  'anio_estreno': 1991},\n",
       " {'id': 'tt0093210',\n",
       "  'tipo': 'Movie',\n",
       "  'nombre': 'La hora 24 (1990)',\n",
       "  'mes_estreno': None,\n",
       "  'anio_estreno': 1990},\n",
       " {'id': 'tt0093989',\n",
       "  'tipo': 'Movie',\n",
       "  'nombre': 'Xian sha lu (1990)',\n",
       "  'mes_estreno': 11,\n",
       "  'anio_estreno': 1990},\n",
       " {'id': 'tt0094666',\n",
       "  'tipo': 'Movie',\n",
       "  'nombre': \"Mia Sara, John Savage, and William Hickey in Any Man's Death (1990)\",\n",
       "  'mes_estreno': 5,\n",
       "  'anio_estreno': 1990},\n",
       " {'id': 'tt0094857',\n",
       "  'tipo': 'Movie',\n",
       "  'nombre': 'Chi se da feng bao (1990)',\n",
       "  'mes_estreno': 3,\n",
       "  'anio_estreno': 1990},\n",
       " {'id': 'tt0095840',\n",
       "  'tipo': 'Movie',\n",
       "  'nombre': 'Payback (1990)',\n",
       "  'mes_estreno': 4,\n",
       "  'anio_estreno': 1990},\n",
       " {'id': 'tt0096469',\n",
       "  'tipo': 'Movie',\n",
       "  'nombre': 'Wu ye tian shi (1990)',\n",
       "  'mes_estreno': 10,\n",
       "  'anio_estreno': 1990},\n",
       " {'id': 'tt0096775',\n",
       "  'tipo': 'Movie',\n",
       "  'nombre': 'Agneekaal (1990)',\n",
       "  'mes_estreno': 10,\n",
       "  'anio_estreno': 1990},\n",
       " {'id': 'tt0096992',\n",
       "  'tipo': 'Movie',\n",
       "  'nombre': 'Bumazhnye glaza Prishvina (1990)',\n",
       "  'mes_estreno': 2,\n",
       "  'anio_estreno': 1990},\n",
       " {'id': 'tt0096937',\n",
       "  'tipo': 'Movie',\n",
       "  'nombre': 'Anatoliy Romashin, Vladimir Samoylov, and Mikhail Efremov in Blagorodnyy razboynik Vladimir Dubrovskiy (1990)',\n",
       "  'mes_estreno': 1,\n",
       "  'anio_estreno': 1990},\n",
       " {'id': 'tt0096025',\n",
       "  'tipo': 'Movie',\n",
       "  'nombre': \"Sailors Don't Cry (1990)\",\n",
       "  'mes_estreno': 6,\n",
       "  'anio_estreno': 1990},\n",
       " {'id': 'tt0096174',\n",
       "  'tipo': 'Movie',\n",
       "  'nombre': 'Zarko Lausevic and Anja Sovagovic-Despot in Stela (1990)',\n",
       "  'mes_estreno': 5,\n",
       "  'anio_estreno': 1990},\n",
       " {'id': 'tt0095902',\n",
       "  'tipo': 'Movie',\n",
       "  'nombre': 'Primo Baby (1990)',\n",
       "  'mes_estreno': 8,\n",
       "  'anio_estreno': 1990},\n",
       " {'id': 'tt0096500',\n",
       "  'tipo': 'Movie',\n",
       "  'nombre': 'Miroslav Etzler in Zbabelec (1990)',\n",
       "  'mes_estreno': None,\n",
       "  'anio_estreno': 1990},\n",
       " {'id': 'tt0096845',\n",
       "  'tipo': 'Movie',\n",
       "  'nombre': 'Atlantic Rhapsody - 52 myndir úr Tórshavn (1990)',\n",
       "  'mes_estreno': 1,\n",
       "  'anio_estreno': 1990},\n",
       " {'id': 'tt0097339',\n",
       "  'tipo': 'Movie',\n",
       "  'nombre': 'Father (1990)',\n",
       "  'mes_estreno': 8,\n",
       "  'anio_estreno': 1990},\n",
       " {'id': 'tt0096817',\n",
       "  'tipo': 'Movie',\n",
       "  'nombre': 'Steven Weber and Belinda Becker in Los ángeles (1990)',\n",
       "  'mes_estreno': 11,\n",
       "  'anio_estreno': 1991},\n",
       " {'id': 'tt0097129',\n",
       "  'tipo': 'Movie',\n",
       "  'nombre': 'Crossing the Line (1990)',\n",
       "  'mes_estreno': 11,\n",
       "  'anio_estreno': 1990},\n",
       " {'id': 'tt0097298',\n",
       "  'tipo': 'Movie',\n",
       "  'nombre': 'Eternity (1990)',\n",
       "  'mes_estreno': 11,\n",
       "  'anio_estreno': 1990},\n",
       " {'id': 'tt0096752',\n",
       "  'tipo': 'Movie',\n",
       "  'nombre': 'Hanna Schygulla and Daniela Schötz in Abrahams Gold (1990)',\n",
       "  'mes_estreno': 4,\n",
       "  'anio_estreno': 1990},\n",
       " {'id': 'tt0097573',\n",
       "  'tipo': 'Movie',\n",
       "  'nombre': 'Jeff Lester and Adrianne Sachs in In the Cold of the Night (1990)',\n",
       "  'mes_estreno': 12,\n",
       "  'anio_estreno': 1990},\n",
       " {'id': 'tt0097697',\n",
       "  'tipo': 'Movie',\n",
       "  'nombre': 'Könnyü vér (1990)',\n",
       "  'mes_estreno': 9,\n",
       "  'anio_estreno': 1990},\n",
       " {'id': 'tt0097802',\n",
       "  'tipo': 'Movie',\n",
       "  'nombre': 'Mado, poste restante (1990)',\n",
       "  'mes_estreno': 10,\n",
       "  'anio_estreno': 1990},\n",
       " {'id': 'tt0098144',\n",
       "  'tipo': 'Movie',\n",
       "  'nombre': 'La punyalada (1990)',\n",
       "  'mes_estreno': 1,\n",
       "  'anio_estreno': 1990},\n",
       " {'id': 'tt0097968',\n",
       "  'tipo': 'Movie',\n",
       "  'nombre': 'Nezný barbar (1990)',\n",
       "  'mes_estreno': 9,\n",
       "  'anio_estreno': 1990},\n",
       " {'id': 'tt0098139',\n",
       "  'tipo': 'Movie',\n",
       "  'nombre': 'Pont de Varsòvia (1990)',\n",
       "  'mes_estreno': 3,\n",
       "  'anio_estreno': 1990},\n",
       " {'id': 'tt0098004',\n",
       "  'tipo': 'Movie',\n",
       "  'nombre': 'Nochevala tuchka zolotaya... (1990)',\n",
       "  'mes_estreno': 5,\n",
       "  'anio_estreno': 1990},\n",
       " {'id': 'tt0097833',\n",
       "  'tipo': 'Movie',\n",
       "  'nombre': 'Marcowe migdaly (1990)',\n",
       "  'mes_estreno': 2,\n",
       "  'anio_estreno': 1990},\n",
       " {'id': 'tt0097106',\n",
       "  'tipo': 'Movie',\n",
       "  'nombre': 'Conte de printemps (1990)',\n",
       "  'mes_estreno': 2,\n",
       "  'anio_estreno': 1991},\n",
       " {'id': 'tt0096875',\n",
       "  'tipo': 'Movie',\n",
       "  'nombre': 'Jodie Foster and Dennis Hopper in Catchfire (1990)',\n",
       "  'mes_estreno': 4,\n",
       "  'anio_estreno': 1990},\n",
       " {'id': 'tt0096296',\n",
       "  'tipo': 'Movie',\n",
       "  'nombre': 'Tragediya v stile rok (1990)',\n",
       "  'mes_estreno': 2,\n",
       "  'anio_estreno': 1990},\n",
       " {'id': 'tt0097115',\n",
       "  'tipo': 'Movie',\n",
       "  'nombre': 'Charlie Sheen and Juliette Caton in Courage Mountain (1990)',\n",
       "  'mes_estreno': 2,\n",
       "  'anio_estreno': 1990},\n",
       " {'id': 'tt0096838',\n",
       "  'tipo': 'Movie',\n",
       "  'nombre': \"L'assassina (1990)\",\n",
       "  'mes_estreno': 8,\n",
       "  'anio_estreno': 1990},\n",
       " {'id': 'tt0096879',\n",
       "  'tipo': 'Movie',\n",
       "  'nombre': 'Bal na dworcu w Koluszkach (1990)',\n",
       "  'mes_estreno': 4,\n",
       "  'anio_estreno': 1990},\n",
       " {'id': 'tt0096984',\n",
       "  'tipo': 'Movie',\n",
       "  'nombre': 'Brodyachiy avtobus (1990)',\n",
       "  'mes_estreno': 8,\n",
       "  'anio_estreno': 1990},\n",
       " {'id': 'tt0097475',\n",
       "  'tipo': 'Movie',\n",
       "  'nombre': 'A halálraítélt (1990)',\n",
       "  'mes_estreno': 5,\n",
       "  'anio_estreno': 1990},\n",
       " {'id': 'tt0096883',\n",
       "  'tipo': 'Movie',\n",
       "  'nombre': 'Ballbuster (1990)',\n",
       "  'mes_estreno': None,\n",
       "  'anio_estreno': 1990},\n",
       " {'id': 'tt0098657',\n",
       "  'tipo': 'Movie',\n",
       "  'nombre': 'Winckelmanns Reisen (1990)',\n",
       "  'mes_estreno': 11,\n",
       "  'anio_estreno': 1991},\n",
       " {'id': 'tt0097348',\n",
       "  'tipo': 'Movie',\n",
       "  'nombre': 'Fung yue tung lo (1990)',\n",
       "  'mes_estreno': 5,\n",
       "  'anio_estreno': 1990},\n",
       " {'id': 'tt0096825',\n",
       "  'tipo': 'Movie',\n",
       "  'nombre': 'Any Time, Any Play (1990)',\n",
       "  'mes_estreno': 11,\n",
       "  'anio_estreno': 1990},\n",
       " {'id': 'tt0097738',\n",
       "  'tipo': 'Movie',\n",
       "  'nombre': 'La leyenda de una máscara (1990)',\n",
       "  'mes_estreno': 2,\n",
       "  'anio_estreno': 1991}]"
      ]
     },
     "execution_count": 189,
     "metadata": {},
     "output_type": "execute_result"
    }
   ],
   "source": [
    "list_dict_90"
   ]
  },
  {
   "cell_type": "code",
   "execution_count": 190,
   "metadata": {},
   "outputs": [],
   "source": [
    "df_pelis_90 = pd.DataFrame(list_dict_90)"
   ]
  },
  {
   "cell_type": "code",
   "execution_count": 191,
   "metadata": {},
   "outputs": [
    {
     "data": {
      "text/html": [
       "<div>\n",
       "<style scoped>\n",
       "    .dataframe tbody tr th:only-of-type {\n",
       "        vertical-align: middle;\n",
       "    }\n",
       "\n",
       "    .dataframe tbody tr th {\n",
       "        vertical-align: top;\n",
       "    }\n",
       "\n",
       "    .dataframe thead th {\n",
       "        text-align: right;\n",
       "    }\n",
       "</style>\n",
       "<table border=\"1\" class=\"dataframe\">\n",
       "  <thead>\n",
       "    <tr style=\"text-align: right;\">\n",
       "      <th></th>\n",
       "      <th>id</th>\n",
       "      <th>tipo</th>\n",
       "      <th>nombre</th>\n",
       "      <th>mes_estreno</th>\n",
       "      <th>anio_estreno</th>\n",
       "    </tr>\n",
       "  </thead>\n",
       "  <tbody>\n",
       "    <tr>\n",
       "      <th>0</th>\n",
       "      <td>tt0059325</td>\n",
       "      <td>Movie</td>\n",
       "      <td>Jahrgang 45 (1990)</td>\n",
       "      <td>10.0</td>\n",
       "      <td>1990</td>\n",
       "    </tr>\n",
       "    <tr>\n",
       "      <th>1</th>\n",
       "      <td>tt0059900</td>\n",
       "      <td>Movie</td>\n",
       "      <td>Wenn du groß bist, lieber Adam (1990)</td>\n",
       "      <td>10.0</td>\n",
       "      <td>1990</td>\n",
       "    </tr>\n",
       "    <tr>\n",
       "      <th>2</th>\n",
       "      <td>tt0068494</td>\n",
       "      <td>Movie</td>\n",
       "      <td>Domo Arigato (1990)</td>\n",
       "      <td>8.0</td>\n",
       "      <td>1990</td>\n",
       "    </tr>\n",
       "    <tr>\n",
       "      <th>3</th>\n",
       "      <td>tt0075259</td>\n",
       "      <td>Movie</td>\n",
       "      <td>Spy Story (1990)</td>\n",
       "      <td>3.0</td>\n",
       "      <td>1990</td>\n",
       "    </tr>\n",
       "    <tr>\n",
       "      <th>4</th>\n",
       "      <td>tt0081721</td>\n",
       "      <td>Movie</td>\n",
       "      <td>Vincent et moi (1990)</td>\n",
       "      <td>12.0</td>\n",
       "      <td>1990</td>\n",
       "    </tr>\n",
       "  </tbody>\n",
       "</table>\n",
       "</div>"
      ],
      "text/plain": [
       "          id   tipo                                 nombre  mes_estreno  \\\n",
       "0  tt0059325  Movie                     Jahrgang 45 (1990)         10.0   \n",
       "1  tt0059900  Movie  Wenn du groß bist, lieber Adam (1990)         10.0   \n",
       "2  tt0068494  Movie                    Domo Arigato (1990)          8.0   \n",
       "3  tt0075259  Movie                       Spy Story (1990)          3.0   \n",
       "4  tt0081721  Movie                  Vincent et moi (1990)         12.0   \n",
       "\n",
       "   anio_estreno  \n",
       "0          1990  \n",
       "1          1990  \n",
       "2          1990  \n",
       "3          1990  \n",
       "4          1990  "
      ]
     },
     "execution_count": 191,
     "metadata": {},
     "output_type": "execute_result"
    }
   ],
   "source": [
    "df_pelis_90.head()"
   ]
  },
  {
   "cell_type": "code",
   "execution_count": 192,
   "metadata": {},
   "outputs": [],
   "source": [
    "df_pelis_90['Genero'] = 'Drama'"
   ]
  },
  {
   "cell_type": "code",
   "execution_count": 193,
   "metadata": {},
   "outputs": [
    {
     "name": "stdout",
     "output_type": "stream",
     "text": [
      "<class 'pandas.core.frame.DataFrame'>\n",
      "RangeIndex: 46 entries, 0 to 45\n",
      "Data columns (total 6 columns):\n",
      " #   Column        Non-Null Count  Dtype  \n",
      "---  ------        --------------  -----  \n",
      " 0   id            46 non-null     object \n",
      " 1   tipo          46 non-null     object \n",
      " 2   nombre        46 non-null     object \n",
      " 3   mes_estreno   43 non-null     float64\n",
      " 4   anio_estreno  46 non-null     int64  \n",
      " 5   Genero        46 non-null     object \n",
      "dtypes: float64(1), int64(1), object(4)\n",
      "memory usage: 2.3+ KB\n"
     ]
    }
   ],
   "source": [
    "df_pelis_90.info()"
   ]
  },
  {
   "cell_type": "code",
   "execution_count": 194,
   "metadata": {},
   "outputs": [
    {
     "name": "stderr",
     "output_type": "stream",
     "text": [
      "C:\\Users\\DELL\\AppData\\Local\\Temp\\ipykernel_13140\\1328662519.py:1: FutureWarning: A value is trying to be set on a copy of a DataFrame or Series through chained assignment using an inplace method.\n",
      "The behavior will change in pandas 3.0. This inplace method will never work because the intermediate object on which we are setting values always behaves as a copy.\n",
      "\n",
      "For example, when doing 'df[col].method(value, inplace=True)', try using 'df.method({col: value}, inplace=True)' or df[col] = df[col].method(value) instead, to perform the operation inplace on the original object.\n",
      "\n",
      "\n",
      "  df_pelis_90['mes_estreno'].fillna('Desconocido', inplace=True)\n",
      "C:\\Users\\DELL\\AppData\\Local\\Temp\\ipykernel_13140\\1328662519.py:1: FutureWarning: Setting an item of incompatible dtype is deprecated and will raise an error in a future version of pandas. Value 'Desconocido' has dtype incompatible with float64, please explicitly cast to a compatible dtype first.\n",
      "  df_pelis_90['mes_estreno'].fillna('Desconocido', inplace=True)\n",
      "C:\\Users\\DELL\\AppData\\Local\\Temp\\ipykernel_13140\\1328662519.py:2: FutureWarning: A value is trying to be set on a copy of a DataFrame or Series through chained assignment using an inplace method.\n",
      "The behavior will change in pandas 3.0. This inplace method will never work because the intermediate object on which we are setting values always behaves as a copy.\n",
      "\n",
      "For example, when doing 'df[col].method(value, inplace=True)', try using 'df.method({col: value}, inplace=True)' or df[col] = df[col].method(value) instead, to perform the operation inplace on the original object.\n",
      "\n",
      "\n",
      "  df_pelis_90['anio_estreno'].fillna(2024, inplace=True)\n"
     ]
    }
   ],
   "source": [
    "df_pelis_90['mes_estreno'].fillna('Desconocido', inplace=True)\n",
    "df_pelis_90['anio_estreno'].fillna(2024, inplace=True)"
   ]
  },
  {
   "cell_type": "code",
   "execution_count": 195,
   "metadata": {},
   "outputs": [],
   "source": [
    "df_drama = pd.concat([df_peli,df_pelis_90], axis=0)"
   ]
  },
  {
   "cell_type": "code",
   "execution_count": 196,
   "metadata": {},
   "outputs": [
    {
     "data": {
      "text/html": [
       "<div>\n",
       "<style scoped>\n",
       "    .dataframe tbody tr th:only-of-type {\n",
       "        vertical-align: middle;\n",
       "    }\n",
       "\n",
       "    .dataframe tbody tr th {\n",
       "        vertical-align: top;\n",
       "    }\n",
       "\n",
       "    .dataframe thead th {\n",
       "        text-align: right;\n",
       "    }\n",
       "</style>\n",
       "<table border=\"1\" class=\"dataframe\">\n",
       "  <thead>\n",
       "    <tr style=\"text-align: right;\">\n",
       "      <th></th>\n",
       "      <th>id</th>\n",
       "      <th>tipo</th>\n",
       "      <th>nombre</th>\n",
       "      <th>mes_estreno</th>\n",
       "      <th>anio_estreno</th>\n",
       "      <th>Genero</th>\n",
       "    </tr>\n",
       "  </thead>\n",
       "  <tbody>\n",
       "    <tr>\n",
       "      <th>0</th>\n",
       "      <td>tt10579986</td>\n",
       "      <td>Movie</td>\n",
       "      <td>Mom's Coming (2024)</td>\n",
       "      <td>11.0</td>\n",
       "      <td>2024.0</td>\n",
       "      <td>Drama</td>\n",
       "    </tr>\n",
       "    <tr>\n",
       "      <th>1</th>\n",
       "      <td>tt10597228</td>\n",
       "      <td>Movie</td>\n",
       "      <td>Love Song and Power (2024)</td>\n",
       "      <td>1.0</td>\n",
       "      <td>2024.0</td>\n",
       "      <td>Drama</td>\n",
       "    </tr>\n",
       "    <tr>\n",
       "      <th>2</th>\n",
       "      <td>tt11097384</td>\n",
       "      <td>Movie</td>\n",
       "      <td>Adam Sandler in Spaceman (2024)</td>\n",
       "      <td>3.0</td>\n",
       "      <td>2024.0</td>\n",
       "      <td>Drama</td>\n",
       "    </tr>\n",
       "    <tr>\n",
       "      <th>3</th>\n",
       "      <td>tt11152168</td>\n",
       "      <td>Movie</td>\n",
       "      <td>Louis Gossett Jr., Ryan Reynolds, Sam Rockwell...</td>\n",
       "      <td>5.0</td>\n",
       "      <td>2024.0</td>\n",
       "      <td>Drama</td>\n",
       "    </tr>\n",
       "    <tr>\n",
       "      <th>4</th>\n",
       "      <td>tt11822244</td>\n",
       "      <td>Movie</td>\n",
       "      <td>Manje Bistre 3 (2024)</td>\n",
       "      <td>7.0</td>\n",
       "      <td>2024.0</td>\n",
       "      <td>Drama</td>\n",
       "    </tr>\n",
       "    <tr>\n",
       "      <th>...</th>\n",
       "      <td>...</td>\n",
       "      <td>...</td>\n",
       "      <td>...</td>\n",
       "      <td>...</td>\n",
       "      <td>...</td>\n",
       "      <td>...</td>\n",
       "    </tr>\n",
       "    <tr>\n",
       "      <th>41</th>\n",
       "      <td>tt0096883</td>\n",
       "      <td>Movie</td>\n",
       "      <td>Ballbuster (1990)</td>\n",
       "      <td>Desconocido</td>\n",
       "      <td>1990.0</td>\n",
       "      <td>Drama</td>\n",
       "    </tr>\n",
       "    <tr>\n",
       "      <th>42</th>\n",
       "      <td>tt0098657</td>\n",
       "      <td>Movie</td>\n",
       "      <td>Winckelmanns Reisen (1990)</td>\n",
       "      <td>11.0</td>\n",
       "      <td>1991.0</td>\n",
       "      <td>Drama</td>\n",
       "    </tr>\n",
       "    <tr>\n",
       "      <th>43</th>\n",
       "      <td>tt0097348</td>\n",
       "      <td>Movie</td>\n",
       "      <td>Fung yue tung lo (1990)</td>\n",
       "      <td>5.0</td>\n",
       "      <td>1990.0</td>\n",
       "      <td>Drama</td>\n",
       "    </tr>\n",
       "    <tr>\n",
       "      <th>44</th>\n",
       "      <td>tt0096825</td>\n",
       "      <td>Movie</td>\n",
       "      <td>Any Time, Any Play (1990)</td>\n",
       "      <td>11.0</td>\n",
       "      <td>1990.0</td>\n",
       "      <td>Drama</td>\n",
       "    </tr>\n",
       "    <tr>\n",
       "      <th>45</th>\n",
       "      <td>tt0097738</td>\n",
       "      <td>Movie</td>\n",
       "      <td>La leyenda de una máscara (1990)</td>\n",
       "      <td>2.0</td>\n",
       "      <td>1991.0</td>\n",
       "      <td>Drama</td>\n",
       "    </tr>\n",
       "  </tbody>\n",
       "</table>\n",
       "<p>93 rows × 6 columns</p>\n",
       "</div>"
      ],
      "text/plain": [
       "            id   tipo                                             nombre  \\\n",
       "0   tt10579986  Movie                                Mom's Coming (2024)   \n",
       "1   tt10597228  Movie                         Love Song and Power (2024)   \n",
       "2   tt11097384  Movie                    Adam Sandler in Spaceman (2024)   \n",
       "3   tt11152168  Movie  Louis Gossett Jr., Ryan Reynolds, Sam Rockwell...   \n",
       "4   tt11822244  Movie                              Manje Bistre 3 (2024)   \n",
       "..         ...    ...                                                ...   \n",
       "41   tt0096883  Movie                                  Ballbuster (1990)   \n",
       "42   tt0098657  Movie                         Winckelmanns Reisen (1990)   \n",
       "43   tt0097348  Movie                            Fung yue tung lo (1990)   \n",
       "44   tt0096825  Movie                          Any Time, Any Play (1990)   \n",
       "45   tt0097738  Movie                   La leyenda de una máscara (1990)   \n",
       "\n",
       "    mes_estreno  anio_estreno Genero  \n",
       "0          11.0        2024.0  Drama  \n",
       "1           1.0        2024.0  Drama  \n",
       "2           3.0        2024.0  Drama  \n",
       "3           5.0        2024.0  Drama  \n",
       "4           7.0        2024.0  Drama  \n",
       "..          ...           ...    ...  \n",
       "41  Desconocido        1990.0  Drama  \n",
       "42         11.0        1991.0  Drama  \n",
       "43          5.0        1990.0  Drama  \n",
       "44         11.0        1990.0  Drama  \n",
       "45          2.0        1991.0  Drama  \n",
       "\n",
       "[93 rows x 6 columns]"
      ]
     },
     "execution_count": 196,
     "metadata": {},
     "output_type": "execute_result"
    }
   ],
   "source": [
    "df_drama"
   ]
  },
  {
   "cell_type": "code",
   "execution_count": 197,
   "metadata": {},
   "outputs": [
    {
     "data": {
      "text/plain": [
       "93"
      ]
     },
     "execution_count": 197,
     "metadata": {},
     "output_type": "execute_result"
    }
   ],
   "source": [
    "df_drama['id'].nunique() #tengo todos los id distintos"
   ]
  },
  {
   "cell_type": "markdown",
   "metadata": {},
   "source": [
    "# Películas Comedy"
   ]
  },
  {
   "cell_type": "code",
   "execution_count": 184,
   "metadata": {},
   "outputs": [],
   "source": [
    "import requests\n",
    "generos = ['Drama', 'Comedy', 'Action', 'Fantasy', 'Horror', 'Mystery', 'Romance', 'Thriller']\n",
    "\n",
    "url = \"https://moviesdatabase.p.rapidapi.com/titles\"\n",
    "\n",
    "# for i in range(1990,2025,1):\n",
    "querystring = {\"genre\":\"Comedy\",\"startYear\":'1990',\"titleType\":\"movie\",\"sort\":\"year.incr\",\"endYear\":\"2024\",\"limit\":\"50\"}\n",
    "\n",
    "headers = {\n",
    "\t\"x-rapidapi-key\": api_key_movies,\n",
    "\t\"x-rapidapi-host\": \"moviesdatabase.p.rapidapi.com\"\n",
    "}\n",
    "\n",
    "response = requests.get(url, headers=headers, params=querystring)\n",
    "\n",
    "movies_comedy_2024 = response.json()"
   ]
  },
  {
   "cell_type": "code",
   "execution_count": 185,
   "metadata": {},
   "outputs": [],
   "source": [
    "with open('movies_com_2024.json', 'w') as archivo_json:\n",
    "    json.dump(movies_comedy_2024, archivo_json, indent=4)"
   ]
  },
  {
   "cell_type": "code",
   "execution_count": 198,
   "metadata": {},
   "outputs": [],
   "source": [
    "list_dict_com_90s = []\n",
    "\n",
    "for i in range(0,50):\n",
    "    # print(i)\n",
    "    try:\n",
    "        tipo_movie_90 = movies_comedy_2024['results'][i]['titleType']['text']\n",
    "        id_movie_90 = movies_comedy_2024['results'][i]['id'] # me quedo con id\n",
    "        name_movie_90 = movies_comedy_2024['results'][i]['primaryImage']['caption']['plainText'] # me quedo con el nombre\n",
    "        month_premiere_90 = movies_comedy_2024['results'][i]['releaseDate']['month'] # me quedo con el mes\n",
    "        year_premiere_90 = movies_comedy_2024['results'][i]['releaseDate']['year'] # me quedo con el año\n",
    "        diccionario = {'id': id_movie_90,\n",
    "                       'tipo':tipo_movie_90,\n",
    "                    'nombre': name_movie_90,\n",
    "                    'mes_estreno': month_premiere_90,\n",
    "                    'anio_estreno': year_premiere_90}\n",
    "        list_dict_com_90s.append(diccionario)\n",
    "    except:\n",
    "        continue"
   ]
  },
  {
   "cell_type": "code",
   "execution_count": 199,
   "metadata": {},
   "outputs": [],
   "source": [
    "df_com_90 = pd.DataFrame(list_dict_com_90s)"
   ]
  },
  {
   "cell_type": "code",
   "execution_count": 200,
   "metadata": {},
   "outputs": [
    {
     "data": {
      "text/html": [
       "<div>\n",
       "<style scoped>\n",
       "    .dataframe tbody tr th:only-of-type {\n",
       "        vertical-align: middle;\n",
       "    }\n",
       "\n",
       "    .dataframe tbody tr th {\n",
       "        vertical-align: top;\n",
       "    }\n",
       "\n",
       "    .dataframe thead th {\n",
       "        text-align: right;\n",
       "    }\n",
       "</style>\n",
       "<table border=\"1\" class=\"dataframe\">\n",
       "  <thead>\n",
       "    <tr style=\"text-align: right;\">\n",
       "      <th></th>\n",
       "      <th>id</th>\n",
       "      <th>tipo</th>\n",
       "      <th>nombre</th>\n",
       "      <th>mes_estreno</th>\n",
       "      <th>anio_estreno</th>\n",
       "    </tr>\n",
       "  </thead>\n",
       "  <tbody>\n",
       "    <tr>\n",
       "      <th>0</th>\n",
       "      <td>tt0090665</td>\n",
       "      <td>Movie</td>\n",
       "      <td>Asfour Stah (1990)</td>\n",
       "      <td>3.0</td>\n",
       "      <td>1991</td>\n",
       "    </tr>\n",
       "    <tr>\n",
       "      <th>1</th>\n",
       "      <td>tt0091899</td>\n",
       "      <td>Movie</td>\n",
       "      <td>O Escorpião Escarlate (1990)</td>\n",
       "      <td>NaN</td>\n",
       "      <td>1990</td>\n",
       "    </tr>\n",
       "    <tr>\n",
       "      <th>2</th>\n",
       "      <td>tt0095840</td>\n",
       "      <td>Movie</td>\n",
       "      <td>Payback (1990)</td>\n",
       "      <td>4.0</td>\n",
       "      <td>1990</td>\n",
       "    </tr>\n",
       "    <tr>\n",
       "      <th>3</th>\n",
       "      <td>tt0097253</td>\n",
       "      <td>Movie</td>\n",
       "      <td>Juliusz Machulski in Dezha vyu (1990)</td>\n",
       "      <td>4.0</td>\n",
       "      <td>1990</td>\n",
       "    </tr>\n",
       "    <tr>\n",
       "      <th>4</th>\n",
       "      <td>tt0096506</td>\n",
       "      <td>Movie</td>\n",
       "      <td>Zhong Ri nan bei he (1990)</td>\n",
       "      <td>5.0</td>\n",
       "      <td>1990</td>\n",
       "    </tr>\n",
       "  </tbody>\n",
       "</table>\n",
       "</div>"
      ],
      "text/plain": [
       "          id   tipo                                 nombre  mes_estreno  \\\n",
       "0  tt0090665  Movie                     Asfour Stah (1990)          3.0   \n",
       "1  tt0091899  Movie           O Escorpião Escarlate (1990)          NaN   \n",
       "2  tt0095840  Movie                         Payback (1990)          4.0   \n",
       "3  tt0097253  Movie  Juliusz Machulski in Dezha vyu (1990)          4.0   \n",
       "4  tt0096506  Movie             Zhong Ri nan bei he (1990)          5.0   \n",
       "\n",
       "   anio_estreno  \n",
       "0          1991  \n",
       "1          1990  \n",
       "2          1990  \n",
       "3          1990  \n",
       "4          1990  "
      ]
     },
     "execution_count": 200,
     "metadata": {},
     "output_type": "execute_result"
    }
   ],
   "source": [
    "df_com_90.head()"
   ]
  },
  {
   "cell_type": "code",
   "execution_count": 201,
   "metadata": {},
   "outputs": [
    {
     "name": "stdout",
     "output_type": "stream",
     "text": [
      "<class 'pandas.core.frame.DataFrame'>\n",
      "RangeIndex: 47 entries, 0 to 46\n",
      "Data columns (total 5 columns):\n",
      " #   Column        Non-Null Count  Dtype  \n",
      "---  ------        --------------  -----  \n",
      " 0   id            47 non-null     object \n",
      " 1   tipo          47 non-null     object \n",
      " 2   nombre        47 non-null     object \n",
      " 3   mes_estreno   46 non-null     float64\n",
      " 4   anio_estreno  47 non-null     int64  \n",
      "dtypes: float64(1), int64(1), object(3)\n",
      "memory usage: 2.0+ KB\n"
     ]
    }
   ],
   "source": [
    "df_com_90.info()"
   ]
  },
  {
   "cell_type": "code",
   "execution_count": 202,
   "metadata": {},
   "outputs": [
    {
     "name": "stderr",
     "output_type": "stream",
     "text": [
      "C:\\Users\\DELL\\AppData\\Local\\Temp\\ipykernel_13140\\3679845190.py:1: FutureWarning: A value is trying to be set on a copy of a DataFrame or Series through chained assignment using an inplace method.\n",
      "The behavior will change in pandas 3.0. This inplace method will never work because the intermediate object on which we are setting values always behaves as a copy.\n",
      "\n",
      "For example, when doing 'df[col].method(value, inplace=True)', try using 'df.method({col: value}, inplace=True)' or df[col] = df[col].method(value) instead, to perform the operation inplace on the original object.\n",
      "\n",
      "\n",
      "  df_com_90['mes_estreno'].fillna('Desconocido', inplace=True)\n",
      "C:\\Users\\DELL\\AppData\\Local\\Temp\\ipykernel_13140\\3679845190.py:1: FutureWarning: Setting an item of incompatible dtype is deprecated and will raise an error in a future version of pandas. Value 'Desconocido' has dtype incompatible with float64, please explicitly cast to a compatible dtype first.\n",
      "  df_com_90['mes_estreno'].fillna('Desconocido', inplace=True)\n"
     ]
    }
   ],
   "source": [
    "df_com_90['mes_estreno'].fillna('Desconocido', inplace=True)"
   ]
  },
  {
   "cell_type": "markdown",
   "metadata": {},
   "source": [
    "## Comedias 2024"
   ]
  },
  {
   "cell_type": "code",
   "execution_count": 203,
   "metadata": {},
   "outputs": [],
   "source": [
    "import requests\n",
    "generos = ['Drama', 'Comedy', 'Action', 'Fantasy', 'Horror', 'Mystery', 'Romance', 'Thriller']\n",
    "\n",
    "url = \"https://moviesdatabase.p.rapidapi.com/titles\"\n",
    "\n",
    "for i in range(1990,2025,1):\n",
    "    querystring = {\"genre\":\"Comedy\",\"startYear\":{i},\"titleType\":\"movie\",\"sort\":\"year.incr\",\"endYear\":\"2024\",\"limit\":\"50\"}\n",
    "\n",
    "headers = {\n",
    "\t\"x-rapidapi-key\": api_key_movies,\n",
    "\t\"x-rapidapi-host\": \"moviesdatabase.p.rapidapi.com\"\n",
    "}\n",
    "\n",
    "response = requests.get(url, headers=headers, params=querystring)\n",
    "\n",
    "movies_com_actuales = response.json()"
   ]
  },
  {
   "cell_type": "code",
   "execution_count": 204,
   "metadata": {},
   "outputs": [],
   "source": [
    "list_dict_com_actuales = []\n",
    "\n",
    "for i in range(0,50):\n",
    "    # print(i)\n",
    "    try:\n",
    "        tipo_movie = movies_com_actuales['results'][i]['titleType']['text']\n",
    "        id_movie = movies_com_actuales['results'][i]['id'] # me quedo con id\n",
    "        name_movie = movies_com_actuales['results'][i]['primaryImage']['caption']['plainText'] # me quedo con el nombre\n",
    "        month_premiere = movies_com_actuales['results'][i]['releaseDate']['month'] # me quedo con el mes\n",
    "        year_premiere = movies_com_actuales['results'][i]['releaseDate']['year'] # me quedo con el año\n",
    "        diccionario = {'id': id_movie,\n",
    "                       'tipo':tipo_movie,\n",
    "                    'nombre': name_movie,\n",
    "                    'mes_estreno': month_premiere,\n",
    "                    'anio_estreno': year_premiere}\n",
    "        list_dict_com_actuales.append(diccionario)\n",
    "    except:\n",
    "        continue"
   ]
  },
  {
   "cell_type": "code",
   "execution_count": 205,
   "metadata": {},
   "outputs": [],
   "source": [
    "df_com = pd.DataFrame(list_dict_com_actuales)"
   ]
  },
  {
   "cell_type": "code",
   "execution_count": 206,
   "metadata": {},
   "outputs": [
    {
     "data": {
      "text/html": [
       "<div>\n",
       "<style scoped>\n",
       "    .dataframe tbody tr th:only-of-type {\n",
       "        vertical-align: middle;\n",
       "    }\n",
       "\n",
       "    .dataframe tbody tr th {\n",
       "        vertical-align: top;\n",
       "    }\n",
       "\n",
       "    .dataframe thead th {\n",
       "        text-align: right;\n",
       "    }\n",
       "</style>\n",
       "<table border=\"1\" class=\"dataframe\">\n",
       "  <thead>\n",
       "    <tr style=\"text-align: right;\">\n",
       "      <th></th>\n",
       "      <th>id</th>\n",
       "      <th>tipo</th>\n",
       "      <th>nombre</th>\n",
       "      <th>mes_estreno</th>\n",
       "      <th>anio_estreno</th>\n",
       "    </tr>\n",
       "  </thead>\n",
       "  <tbody>\n",
       "    <tr>\n",
       "      <th>0</th>\n",
       "      <td>tt10408218</td>\n",
       "      <td>Movie</td>\n",
       "      <td>Pizzodyssey (2024)</td>\n",
       "      <td>2.0</td>\n",
       "      <td>2024.0</td>\n",
       "    </tr>\n",
       "    <tr>\n",
       "      <th>1</th>\n",
       "      <td>tt11152168</td>\n",
       "      <td>Movie</td>\n",
       "      <td>Louis Gossett Jr., Ryan Reynolds, Sam Rockwell...</td>\n",
       "      <td>5.0</td>\n",
       "      <td>2024.0</td>\n",
       "    </tr>\n",
       "    <tr>\n",
       "      <th>2</th>\n",
       "      <td>tt12975102</td>\n",
       "      <td>Movie</td>\n",
       "      <td>Olivia d'Abo, J.D. Buckwell, Eileen Dietz, Sea...</td>\n",
       "      <td>11.0</td>\n",
       "      <td>2024.0</td>\n",
       "    </tr>\n",
       "    <tr>\n",
       "      <th>3</th>\n",
       "      <td>tt13036100</td>\n",
       "      <td>Movie</td>\n",
       "      <td>Broken Glass (2024)</td>\n",
       "      <td>2.0</td>\n",
       "      <td>2024.0</td>\n",
       "    </tr>\n",
       "    <tr>\n",
       "      <th>4</th>\n",
       "      <td>tt13176330</td>\n",
       "      <td>Movie</td>\n",
       "      <td>Flavor Flav, RuPaul, Jason Sudeikis, Rainn Wil...</td>\n",
       "      <td>11.0</td>\n",
       "      <td>2024.0</td>\n",
       "    </tr>\n",
       "  </tbody>\n",
       "</table>\n",
       "</div>"
      ],
      "text/plain": [
       "           id   tipo                                             nombre  \\\n",
       "0  tt10408218  Movie                                 Pizzodyssey (2024)   \n",
       "1  tt11152168  Movie  Louis Gossett Jr., Ryan Reynolds, Sam Rockwell...   \n",
       "2  tt12975102  Movie  Olivia d'Abo, J.D. Buckwell, Eileen Dietz, Sea...   \n",
       "3  tt13036100  Movie                                Broken Glass (2024)   \n",
       "4  tt13176330  Movie  Flavor Flav, RuPaul, Jason Sudeikis, Rainn Wil...   \n",
       "\n",
       "   mes_estreno  anio_estreno  \n",
       "0          2.0        2024.0  \n",
       "1          5.0        2024.0  \n",
       "2         11.0        2024.0  \n",
       "3          2.0        2024.0  \n",
       "4         11.0        2024.0  "
      ]
     },
     "execution_count": 206,
     "metadata": {},
     "output_type": "execute_result"
    }
   ],
   "source": [
    "df_com.head()"
   ]
  },
  {
   "cell_type": "code",
   "execution_count": 207,
   "metadata": {},
   "outputs": [
    {
     "name": "stdout",
     "output_type": "stream",
     "text": [
      "<class 'pandas.core.frame.DataFrame'>\n",
      "RangeIndex: 39 entries, 0 to 38\n",
      "Data columns (total 5 columns):\n",
      " #   Column        Non-Null Count  Dtype  \n",
      "---  ------        --------------  -----  \n",
      " 0   id            39 non-null     object \n",
      " 1   tipo          39 non-null     object \n",
      " 2   nombre        39 non-null     object \n",
      " 3   mes_estreno   37 non-null     float64\n",
      " 4   anio_estreno  38 non-null     float64\n",
      "dtypes: float64(2), object(3)\n",
      "memory usage: 1.7+ KB\n"
     ]
    }
   ],
   "source": [
    "df_com.info()"
   ]
  },
  {
   "cell_type": "code",
   "execution_count": 209,
   "metadata": {},
   "outputs": [
    {
     "name": "stderr",
     "output_type": "stream",
     "text": [
      "C:\\Users\\DELL\\AppData\\Local\\Temp\\ipykernel_13140\\1549228346.py:2: FutureWarning: A value is trying to be set on a copy of a DataFrame or Series through chained assignment using an inplace method.\n",
      "The behavior will change in pandas 3.0. This inplace method will never work because the intermediate object on which we are setting values always behaves as a copy.\n",
      "\n",
      "For example, when doing 'df[col].method(value, inplace=True)', try using 'df.method({col: value}, inplace=True)' or df[col] = df[col].method(value) instead, to perform the operation inplace on the original object.\n",
      "\n",
      "\n",
      "  df_com['anio_estreno'].fillna(2024 ,inplace=True)\n"
     ]
    }
   ],
   "source": [
    "df_com['mes_estreno'].fillna('Desconocido', inplace=True)\n",
    "df_com['anio_estreno'].fillna(2024 ,inplace=True)"
   ]
  },
  {
   "cell_type": "code",
   "execution_count": 210,
   "metadata": {},
   "outputs": [],
   "source": [
    "df_comedies = pd.concat([df_com, df_com_90], axis=0)"
   ]
  },
  {
   "cell_type": "code",
   "execution_count": 211,
   "metadata": {},
   "outputs": [
    {
     "data": {
      "text/html": [
       "<div>\n",
       "<style scoped>\n",
       "    .dataframe tbody tr th:only-of-type {\n",
       "        vertical-align: middle;\n",
       "    }\n",
       "\n",
       "    .dataframe tbody tr th {\n",
       "        vertical-align: top;\n",
       "    }\n",
       "\n",
       "    .dataframe thead th {\n",
       "        text-align: right;\n",
       "    }\n",
       "</style>\n",
       "<table border=\"1\" class=\"dataframe\">\n",
       "  <thead>\n",
       "    <tr style=\"text-align: right;\">\n",
       "      <th></th>\n",
       "      <th>id</th>\n",
       "      <th>tipo</th>\n",
       "      <th>nombre</th>\n",
       "      <th>mes_estreno</th>\n",
       "      <th>anio_estreno</th>\n",
       "    </tr>\n",
       "  </thead>\n",
       "  <tbody>\n",
       "    <tr>\n",
       "      <th>0</th>\n",
       "      <td>tt10408218</td>\n",
       "      <td>Movie</td>\n",
       "      <td>Pizzodyssey (2024)</td>\n",
       "      <td>2.0</td>\n",
       "      <td>2024.0</td>\n",
       "    </tr>\n",
       "    <tr>\n",
       "      <th>1</th>\n",
       "      <td>tt11152168</td>\n",
       "      <td>Movie</td>\n",
       "      <td>Louis Gossett Jr., Ryan Reynolds, Sam Rockwell...</td>\n",
       "      <td>5.0</td>\n",
       "      <td>2024.0</td>\n",
       "    </tr>\n",
       "    <tr>\n",
       "      <th>2</th>\n",
       "      <td>tt12975102</td>\n",
       "      <td>Movie</td>\n",
       "      <td>Olivia d'Abo, J.D. Buckwell, Eileen Dietz, Sea...</td>\n",
       "      <td>11.0</td>\n",
       "      <td>2024.0</td>\n",
       "    </tr>\n",
       "    <tr>\n",
       "      <th>3</th>\n",
       "      <td>tt13036100</td>\n",
       "      <td>Movie</td>\n",
       "      <td>Broken Glass (2024)</td>\n",
       "      <td>2.0</td>\n",
       "      <td>2024.0</td>\n",
       "    </tr>\n",
       "    <tr>\n",
       "      <th>4</th>\n",
       "      <td>tt13176330</td>\n",
       "      <td>Movie</td>\n",
       "      <td>Flavor Flav, RuPaul, Jason Sudeikis, Rainn Wil...</td>\n",
       "      <td>11.0</td>\n",
       "      <td>2024.0</td>\n",
       "    </tr>\n",
       "  </tbody>\n",
       "</table>\n",
       "</div>"
      ],
      "text/plain": [
       "           id   tipo                                             nombre  \\\n",
       "0  tt10408218  Movie                                 Pizzodyssey (2024)   \n",
       "1  tt11152168  Movie  Louis Gossett Jr., Ryan Reynolds, Sam Rockwell...   \n",
       "2  tt12975102  Movie  Olivia d'Abo, J.D. Buckwell, Eileen Dietz, Sea...   \n",
       "3  tt13036100  Movie                                Broken Glass (2024)   \n",
       "4  tt13176330  Movie  Flavor Flav, RuPaul, Jason Sudeikis, Rainn Wil...   \n",
       "\n",
       "  mes_estreno  anio_estreno  \n",
       "0         2.0        2024.0  \n",
       "1         5.0        2024.0  \n",
       "2        11.0        2024.0  \n",
       "3         2.0        2024.0  \n",
       "4        11.0        2024.0  "
      ]
     },
     "execution_count": 211,
     "metadata": {},
     "output_type": "execute_result"
    }
   ],
   "source": [
    "df_comedies.head()"
   ]
  },
  {
   "cell_type": "code",
   "execution_count": 224,
   "metadata": {},
   "outputs": [],
   "source": [
    "df_comedies['Genero'] = 'Comedy'"
   ]
  },
  {
   "cell_type": "markdown",
   "metadata": {},
   "source": [
    "# Películas de acción"
   ]
  },
  {
   "cell_type": "code",
   "execution_count": 212,
   "metadata": {},
   "outputs": [],
   "source": [
    "import requests\n",
    "generos = ['Drama', 'Comedy', 'Action', 'Fantasy', 'Horror', 'Mystery', 'Romance', 'Thriller']\n",
    "\n",
    "url = \"https://moviesdatabase.p.rapidapi.com/titles\"\n",
    "\n",
    "# for i in range(1990,2025,1):\n",
    "querystring = {\"genre\":\"Action\",\"startYear\":'1990',\"titleType\":\"movie\",\"sort\":\"year.incr\",\"endYear\":\"2024\",\"limit\":\"50\"}\n",
    "\n",
    "headers = {\n",
    "\t\"x-rapidapi-key\": api_key_movies,\n",
    "\t\"x-rapidapi-host\": \"moviesdatabase.p.rapidapi.com\"\n",
    "}\n",
    "\n",
    "response = requests.get(url, headers=headers, params=querystring)\n",
    "\n",
    "movies_action_90 = response.json()"
   ]
  },
  {
   "cell_type": "code",
   "execution_count": 220,
   "metadata": {},
   "outputs": [
    {
     "data": {
      "text/plain": [
       "{'_id': '61e580fe95801a78bc414fd3',\n",
       " 'id': 'tt0075259',\n",
       " 'primaryImage': {'id': 'rm3423950592',\n",
       "  'width': 600,\n",
       "  'height': 900,\n",
       "  'url': 'https://m.media-amazon.com/images/M/MV5BMTQ3NTc4YjgtNTY4Ni00Y2Y5LWE1NDctYmZlODcwY2QwMmNjXkEyXkFqcGdeQXVyMTg2NjYzOA@@._V1_.jpg',\n",
       "  'caption': {'plainText': 'Spy Story (1990)', '__typename': 'Markdown'},\n",
       "  '__typename': 'Image'},\n",
       " 'titleType': {'text': 'Movie',\n",
       "  'id': 'movie',\n",
       "  'isSeries': False,\n",
       "  'isEpisode': False,\n",
       "  '__typename': 'TitleType'},\n",
       " 'titleText': {'text': 'Spy Story', '__typename': 'TitleText'},\n",
       " 'originalTitleText': {'text': 'Spy Story', '__typename': 'TitleText'},\n",
       " 'releaseYear': {'year': 1990, 'endYear': None, '__typename': 'YearRange'},\n",
       " 'releaseDate': {'day': 23,\n",
       "  'month': 3,\n",
       "  'year': 1990,\n",
       "  '__typename': 'ReleaseDate'}}"
      ]
     },
     "execution_count": 220,
     "metadata": {},
     "output_type": "execute_result"
    }
   ],
   "source": [
    "movies_action_90['results'][0]"
   ]
  },
  {
   "cell_type": "code",
   "execution_count": 225,
   "metadata": {},
   "outputs": [],
   "source": [
    "list_dict_action_90 = []\n",
    "\n",
    "for i in range(0,50):\n",
    "    # print(i)\n",
    "    try:\n",
    "        tipo_movie = movies_action_90['results'][i]['titleType']['text']\n",
    "        id_movie = movies_action_90['results'][i]['id'] # me quedo con id\n",
    "        name_movie = movies_action_90['results'][i]['primaryImage']['caption']['plainText'] # me quedo con el nombre\n",
    "        month_premiere = movies_action_90['results'][i]['releaseDate']['month'] # me quedo con el mes\n",
    "        year_premiere = movies_action_90['results'][i]['releaseDate']['year'] # me quedo con el año\n",
    "        diccionario = {'id': id_movie,\n",
    "                       'tipo':tipo_movie,\n",
    "                    'nombre': name_movie,\n",
    "                    'mes_estreno': month_premiere,\n",
    "                    'anio_estreno': year_premiere,\n",
    "                    'Genero':'Accion'}\n",
    "        list_dict_action_90.append(diccionario)\n",
    "    except:\n",
    "        continue"
   ]
  },
  {
   "cell_type": "code",
   "execution_count": 226,
   "metadata": {},
   "outputs": [],
   "source": [
    "df_action_90 = pd.DataFrame(list_dict_action_90)"
   ]
  },
  {
   "cell_type": "code",
   "execution_count": 227,
   "metadata": {},
   "outputs": [
    {
     "data": {
      "text/html": [
       "<div>\n",
       "<style scoped>\n",
       "    .dataframe tbody tr th:only-of-type {\n",
       "        vertical-align: middle;\n",
       "    }\n",
       "\n",
       "    .dataframe tbody tr th {\n",
       "        vertical-align: top;\n",
       "    }\n",
       "\n",
       "    .dataframe thead th {\n",
       "        text-align: right;\n",
       "    }\n",
       "</style>\n",
       "<table border=\"1\" class=\"dataframe\">\n",
       "  <thead>\n",
       "    <tr style=\"text-align: right;\">\n",
       "      <th></th>\n",
       "      <th>id</th>\n",
       "      <th>tipo</th>\n",
       "      <th>nombre</th>\n",
       "      <th>mes_estreno</th>\n",
       "      <th>anio_estreno</th>\n",
       "      <th>Genero</th>\n",
       "    </tr>\n",
       "  </thead>\n",
       "  <tbody>\n",
       "    <tr>\n",
       "      <th>0</th>\n",
       "      <td>tt0075259</td>\n",
       "      <td>Movie</td>\n",
       "      <td>Spy Story (1990)</td>\n",
       "      <td>3.0</td>\n",
       "      <td>1990</td>\n",
       "      <td>Accion</td>\n",
       "    </tr>\n",
       "    <tr>\n",
       "      <th>1</th>\n",
       "      <td>tt0092926</td>\n",
       "      <td>Movie</td>\n",
       "      <td>Martin McNamara and Michael McNamara in Dragon...</td>\n",
       "      <td>6.0</td>\n",
       "      <td>1990</td>\n",
       "      <td>Accion</td>\n",
       "    </tr>\n",
       "    <tr>\n",
       "      <th>2</th>\n",
       "      <td>tt0094376</td>\n",
       "      <td>Movie</td>\n",
       "      <td>Cynthia Khan in Huang jia shi jie zhi: Zhong j...</td>\n",
       "      <td>6.0</td>\n",
       "      <td>1990</td>\n",
       "      <td>Accion</td>\n",
       "    </tr>\n",
       "    <tr>\n",
       "      <th>3</th>\n",
       "      <td>tt0094004</td>\n",
       "      <td>Movie</td>\n",
       "      <td>Soldier of Fortune (1990)</td>\n",
       "      <td>4.0</td>\n",
       "      <td>1990</td>\n",
       "      <td>Accion</td>\n",
       "    </tr>\n",
       "    <tr>\n",
       "      <th>4</th>\n",
       "      <td>tt0093989</td>\n",
       "      <td>Movie</td>\n",
       "      <td>Xian sha lu (1990)</td>\n",
       "      <td>11.0</td>\n",
       "      <td>1990</td>\n",
       "      <td>Accion</td>\n",
       "    </tr>\n",
       "  </tbody>\n",
       "</table>\n",
       "</div>"
      ],
      "text/plain": [
       "          id   tipo                                             nombre  \\\n",
       "0  tt0075259  Movie                                   Spy Story (1990)   \n",
       "1  tt0092926  Movie  Martin McNamara and Michael McNamara in Dragon...   \n",
       "2  tt0094376  Movie  Cynthia Khan in Huang jia shi jie zhi: Zhong j...   \n",
       "3  tt0094004  Movie                          Soldier of Fortune (1990)   \n",
       "4  tt0093989  Movie                                 Xian sha lu (1990)   \n",
       "\n",
       "   mes_estreno  anio_estreno  Genero  \n",
       "0          3.0          1990  Accion  \n",
       "1          6.0          1990  Accion  \n",
       "2          6.0          1990  Accion  \n",
       "3          4.0          1990  Accion  \n",
       "4         11.0          1990  Accion  "
      ]
     },
     "execution_count": 227,
     "metadata": {},
     "output_type": "execute_result"
    }
   ],
   "source": [
    "df_action_90.head()"
   ]
  },
  {
   "cell_type": "markdown",
   "metadata": {},
   "source": [
    "## Accion actuales"
   ]
  },
  {
   "cell_type": "code",
   "execution_count": 232,
   "metadata": {},
   "outputs": [],
   "source": [
    "import requests\n",
    "generos = ['Drama', 'Comedy', 'Action', 'Fantasy', 'Horror', 'Mystery', 'Romance', 'Thriller']\n",
    "\n",
    "url = \"https://moviesdatabase.p.rapidapi.com/titles\"\n",
    "\n",
    "for i in range(1990,2025,1):\n",
    "\tquerystring = {f\"genre\":\"Action\",\"startYear\":{i},\"titleType\":\"movie\",\"sort\":\"year.incr\",\"endYear\":\"2024\",\"limit\":\"50\"}\n",
    "\n",
    "headers = {\n",
    "\t\"x-rapidapi-key\": api_key_movies,\n",
    "\t\"x-rapidapi-host\": \"moviesdatabase.p.rapidapi.com\"\n",
    "}\n",
    "\n",
    "response = requests.get(url, headers=headers, params=querystring)\n",
    "\n",
    "movies_action = response.json()"
   ]
  },
  {
   "cell_type": "code",
   "execution_count": 233,
   "metadata": {},
   "outputs": [
    {
     "data": {
      "text/plain": [
       "{'_id': '61e5919778c012aa344524ad',\n",
       " 'id': 'tt11078340',\n",
       " 'primaryImage': {'id': 'rm2624671233',\n",
       "  'width': 3508,\n",
       "  'height': 4961,\n",
       "  'url': 'https://m.media-amazon.com/images/M/MV5BYzNiNGE3NDMtMGY0MS00YzhkLThlMTUtOThmZTg0ZjU2NmIxXkEyXkFqcGc@._V1_.jpg',\n",
       "  'caption': {'plainText': 'Slasher House 3 (2024)', '__typename': 'Markdown'},\n",
       "  '__typename': 'Image'},\n",
       " 'titleType': {'displayableProperty': {'value': {'plainText': '',\n",
       "    '__typename': 'Markdown'},\n",
       "   '__typename': 'DisplayableTitleTypeProperty'},\n",
       "  'text': 'Movie',\n",
       "  'id': 'movie',\n",
       "  'isSeries': False,\n",
       "  'isEpisode': False,\n",
       "  'categories': [{'value': 'movie', '__typename': 'TitleTypeCategory'}],\n",
       "  'canHaveEpisodes': False,\n",
       "  '__typename': 'TitleType'},\n",
       " 'titleText': {'text': 'Slasher House 3', '__typename': 'TitleText'},\n",
       " 'originalTitleText': {'text': 'Slasher House 3', '__typename': 'TitleText'},\n",
       " 'releaseYear': {'year': 2024, 'endYear': None, '__typename': 'YearRange'},\n",
       " 'releaseDate': {'day': 4,\n",
       "  'month': 3,\n",
       "  'year': 2024,\n",
       "  '__typename': 'ReleaseDate'}}"
      ]
     },
     "execution_count": 233,
     "metadata": {},
     "output_type": "execute_result"
    }
   ],
   "source": [
    "movies_action['results'][0]"
   ]
  },
  {
   "cell_type": "code",
   "execution_count": 234,
   "metadata": {},
   "outputs": [],
   "source": [
    "list_dict_action = []\n",
    "\n",
    "for i in range(0,50):\n",
    "    # print(i)\n",
    "    try:\n",
    "        tipo_movie = movies_action['results'][i]['titleType']['text']\n",
    "        id_movie = movies_action['results'][i]['id'] # me quedo con id\n",
    "        name_movie = movies_action['results'][i]['primaryImage']['caption']['plainText'] # me quedo con el nombre\n",
    "        month_premiere = movies_action['results'][i]['releaseDate']['month'] # me quedo con el mes\n",
    "        year_premiere = movies_action['results'][i]['releaseDate']['year'] # me quedo con el año\n",
    "        diccionario = {'id': id_movie,\n",
    "                       'tipo':tipo_movie,\n",
    "                    'nombre': name_movie,\n",
    "                    'mes_estreno': month_premiere,\n",
    "                    'anio_estreno': year_premiere,\n",
    "                    'Genero':'Accion'}\n",
    "        list_dict_action.append(diccionario)\n",
    "    except:\n",
    "        continue"
   ]
  },
  {
   "cell_type": "code",
   "execution_count": 235,
   "metadata": {},
   "outputs": [],
   "source": [
    "df_action = pd.DataFrame(list_dict_action)"
   ]
  },
  {
   "cell_type": "code",
   "execution_count": 236,
   "metadata": {},
   "outputs": [
    {
     "data": {
      "text/html": [
       "<div>\n",
       "<style scoped>\n",
       "    .dataframe tbody tr th:only-of-type {\n",
       "        vertical-align: middle;\n",
       "    }\n",
       "\n",
       "    .dataframe tbody tr th {\n",
       "        vertical-align: top;\n",
       "    }\n",
       "\n",
       "    .dataframe thead th {\n",
       "        text-align: right;\n",
       "    }\n",
       "</style>\n",
       "<table border=\"1\" class=\"dataframe\">\n",
       "  <thead>\n",
       "    <tr style=\"text-align: right;\">\n",
       "      <th></th>\n",
       "      <th>id</th>\n",
       "      <th>tipo</th>\n",
       "      <th>nombre</th>\n",
       "      <th>mes_estreno</th>\n",
       "      <th>anio_estreno</th>\n",
       "      <th>Genero</th>\n",
       "    </tr>\n",
       "  </thead>\n",
       "  <tbody>\n",
       "    <tr>\n",
       "      <th>0</th>\n",
       "      <td>tt11078340</td>\n",
       "      <td>Movie</td>\n",
       "      <td>Slasher House 3 (2024)</td>\n",
       "      <td>3.0</td>\n",
       "      <td>2024</td>\n",
       "      <td>Accion</td>\n",
       "    </tr>\n",
       "    <tr>\n",
       "      <th>1</th>\n",
       "      <td>tt11374514</td>\n",
       "      <td>Movie</td>\n",
       "      <td>Clank and the Golden Scar (2024)</td>\n",
       "      <td>12.0</td>\n",
       "      <td>2024</td>\n",
       "      <td>Accion</td>\n",
       "    </tr>\n",
       "    <tr>\n",
       "      <th>2</th>\n",
       "      <td>tt12037194</td>\n",
       "      <td>Movie</td>\n",
       "      <td>Anya Taylor-Joy in Furiosa: A Mad Max Saga (2024)</td>\n",
       "      <td>5.0</td>\n",
       "      <td>2024</td>\n",
       "      <td>Accion</td>\n",
       "    </tr>\n",
       "    <tr>\n",
       "      <th>3</th>\n",
       "      <td>tt13176330</td>\n",
       "      <td>Movie</td>\n",
       "      <td>Flavor Flav, RuPaul, Jason Sudeikis, Rainn Wil...</td>\n",
       "      <td>11.0</td>\n",
       "      <td>2024</td>\n",
       "      <td>Accion</td>\n",
       "    </tr>\n",
       "    <tr>\n",
       "      <th>4</th>\n",
       "      <td>tt13818368</td>\n",
       "      <td>Movie</td>\n",
       "      <td>Hrithik Roshan, Anil Kapoor, Akshay Oberoi, De...</td>\n",
       "      <td>1.0</td>\n",
       "      <td>2024</td>\n",
       "      <td>Accion</td>\n",
       "    </tr>\n",
       "  </tbody>\n",
       "</table>\n",
       "</div>"
      ],
      "text/plain": [
       "           id   tipo                                             nombre  \\\n",
       "0  tt11078340  Movie                             Slasher House 3 (2024)   \n",
       "1  tt11374514  Movie                   Clank and the Golden Scar (2024)   \n",
       "2  tt12037194  Movie  Anya Taylor-Joy in Furiosa: A Mad Max Saga (2024)   \n",
       "3  tt13176330  Movie  Flavor Flav, RuPaul, Jason Sudeikis, Rainn Wil...   \n",
       "4  tt13818368  Movie  Hrithik Roshan, Anil Kapoor, Akshay Oberoi, De...   \n",
       "\n",
       "   mes_estreno  anio_estreno  Genero  \n",
       "0          3.0          2024  Accion  \n",
       "1         12.0          2024  Accion  \n",
       "2          5.0          2024  Accion  \n",
       "3         11.0          2024  Accion  \n",
       "4          1.0          2024  Accion  "
      ]
     },
     "execution_count": 236,
     "metadata": {},
     "output_type": "execute_result"
    }
   ],
   "source": [
    "df_action.head()"
   ]
  },
  {
   "cell_type": "code",
   "execution_count": 237,
   "metadata": {},
   "outputs": [
    {
     "name": "stdout",
     "output_type": "stream",
     "text": [
      "<class 'pandas.core.frame.DataFrame'>\n",
      "RangeIndex: 40 entries, 0 to 39\n",
      "Data columns (total 6 columns):\n",
      " #   Column        Non-Null Count  Dtype  \n",
      "---  ------        --------------  -----  \n",
      " 0   id            40 non-null     object \n",
      " 1   tipo          40 non-null     object \n",
      " 2   nombre        40 non-null     object \n",
      " 3   mes_estreno   37 non-null     float64\n",
      " 4   anio_estreno  40 non-null     int64  \n",
      " 5   Genero        40 non-null     object \n",
      "dtypes: float64(1), int64(1), object(4)\n",
      "memory usage: 2.0+ KB\n"
     ]
    }
   ],
   "source": [
    "df_action.info()"
   ]
  },
  {
   "cell_type": "code",
   "execution_count": 238,
   "metadata": {},
   "outputs": [
    {
     "name": "stderr",
     "output_type": "stream",
     "text": [
      "C:\\Users\\DELL\\AppData\\Local\\Temp\\ipykernel_13140\\2374654864.py:1: FutureWarning: A value is trying to be set on a copy of a DataFrame or Series through chained assignment using an inplace method.\n",
      "The behavior will change in pandas 3.0. This inplace method will never work because the intermediate object on which we are setting values always behaves as a copy.\n",
      "\n",
      "For example, when doing 'df[col].method(value, inplace=True)', try using 'df.method({col: value}, inplace=True)' or df[col] = df[col].method(value) instead, to perform the operation inplace on the original object.\n",
      "\n",
      "\n",
      "  df_action['mes_estreno'].fillna('Desconocido', inplace=True)\n",
      "C:\\Users\\DELL\\AppData\\Local\\Temp\\ipykernel_13140\\2374654864.py:1: FutureWarning: Setting an item of incompatible dtype is deprecated and will raise an error in a future version of pandas. Value 'Desconocido' has dtype incompatible with float64, please explicitly cast to a compatible dtype first.\n",
      "  df_action['mes_estreno'].fillna('Desconocido', inplace=True)\n"
     ]
    }
   ],
   "source": [
    "df_action['mes_estreno'].fillna('Desconocido', inplace=True)"
   ]
  },
  {
   "cell_type": "code",
   "execution_count": 239,
   "metadata": {},
   "outputs": [],
   "source": [
    "# pendiente unir"
   ]
  },
  {
   "cell_type": "code",
   "execution_count": null,
   "metadata": {},
   "outputs": [],
   "source": []
  }
 ],
 "metadata": {
  "kernelspec": {
   "display_name": "Python 3",
   "language": "python",
   "name": "python3"
  },
  "language_info": {
   "codemirror_mode": {
    "name": "ipython",
    "version": 3
   },
   "file_extension": ".py",
   "mimetype": "text/x-python",
   "name": "python",
   "nbconvert_exporter": "python",
   "pygments_lexer": "ipython3",
   "version": "3.11.9"
  }
 },
 "nbformat": 4,
 "nbformat_minor": 2
}
